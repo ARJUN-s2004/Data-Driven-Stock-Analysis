{
 "cells": [
  {
   "cell_type": "code",
   "execution_count": 2,
   "metadata": {},
   "outputs": [
    {
     "name": "stdout",
     "output_type": "stream",
     "text": [
      "Saved 50 ticker CSV files to: E:\\Guvi Projects\\project 2 stock\\data (1)\\datas\\tickers_csv\n"
     ]
    }
   ],
   "source": [
    "import pandas as pd\n",
    "import yaml\n",
    "from pathlib import Path\n",
    "\n",
    "# Set the path to the directory containing all YAML files\n",
    "data_folder = Path(r\"E:\\Guvi Projects\\project 2 stock\\data (1)\\datas\")  # or your own directory path\n",
    "yaml_files = list(data_folder.glob(\"*.yaml\"))  # this will include all .yaml files\n",
    "\n",
    "# Collect records from all YAML files\n",
    "all_records = []\n",
    "for file in yaml_files:\n",
    "    with open(file, 'r') as f:\n",
    "        try:\n",
    "            records = yaml.safe_load(f)\n",
    "            if records:  # ensure non-empty\n",
    "                all_records.extend(records)\n",
    "        except yaml.YAMLError as e:\n",
    "            print(f\"Error reading {file.name}: {e}\")\n",
    "\n",
    "# Convert to DataFrame\n",
    "df = pd.DataFrame(all_records)\n",
    "\n",
    "# Get 50 unique tickers (you can change this number if needed)\n",
    "unique_tickers = df['Ticker'].unique()[:50]\n",
    "\n",
    "# Create output directory for CSVs\n",
    "output_dir = data_folder / \"tickers_csv\"\n",
    "output_dir.mkdir(exist_ok=True)\n",
    "\n",
    "# Write each ticker's data into separate CSV file\n",
    "for ticker in unique_tickers:\n",
    "    ticker_df = df[df['Ticker'] == ticker]\n",
    "    ticker_df.to_csv(output_dir / f\"{ticker}.csv\", index=False)\n",
    "\n",
    "print(f\"Saved {len(unique_tickers)} ticker CSV files to: {output_dir}\")\n"
   ]
  },
  {
   "cell_type": "code",
   "execution_count": null,
   "metadata": {},
   "outputs": [],
   "source": [
    "import pandas as pd\n",
    "from pathlib import Path\n",
    "\n",
    "csv_folder = Path(r\"E:\\Guvi Projects\\project 2 stock\\codes\\data (1)\\tickers_csv\")  \n",
    "\n",
    "csv_files = list(csv_folder.glob(\"*.csv\"))\n",
    "\n",
    "df_all = pd.concat((pd.read_csv(f) for f in csv_files), ignore_index=True)\n",
    "\n",
    "print(df_all.head())\n",
    "print(f\"Total rows combined: {len(df_all)}\")\n"
   ]
  },
  {
   "cell_type": "code",
   "execution_count": 1,
   "metadata": {},
   "outputs": [
    {
     "name": "stdout",
     "output_type": "stream",
     "text": [
      "     Ticker    close                 date     high      low    month     open  \\\n",
      "0  ADANIENT  2387.25  2023-10-03 05:30:00  2424.90  2372.00  2023-10  2418.00   \n",
      "1  ADANIENT  2464.95  2023-10-04 05:30:00  2502.75  2392.25  2023-10  2402.20   \n",
      "2  ADANIENT  2466.35  2023-10-05 05:30:00  2486.50  2446.40  2023-10  2477.95   \n",
      "3  ADANIENT  2478.10  2023-10-06 05:30:00  2514.95  2466.05  2023-10  2466.35   \n",
      "4  ADANIENT  2442.60  2023-10-09 05:30:00  2459.70  2411.30  2023-10  2440.00   \n",
      "\n",
      "    volume  \n",
      "0  2019899  \n",
      "1  2857377  \n",
      "2  1132455  \n",
      "3  1510035  \n",
      "4  1408224  \n",
      "Total rows combined: 14200\n",
      "Combined data saved to: E:\\Guvi Projects\\project 2 stock\\codes\\data (1)\\tickers_csv\\stock_price.csv\n"
     ]
    }
   ],
   "source": [
    "import pandas as pd\n",
    "from pathlib import Path\n",
    "\n",
    "# Define the folder containing individual stock CSVs\n",
    "csv_folder = Path(r\"E:\\Guvi Projects\\project 2 stock\\codes\\data (1)\\tickers_csv\")\n",
    "\n",
    "# List all CSV files\n",
    "csv_files = list(csv_folder.glob(\"*.csv\"))\n",
    "\n",
    "# Read and combine all CSV files into one DataFrame\n",
    "df_all = pd.concat((pd.read_csv(f) for f in csv_files), ignore_index=True)\n",
    "\n",
    "# Print preview and size\n",
    "print(df_all.head())\n",
    "print(f\"Total rows combined: {len(df_all)}\")\n",
    "\n",
    "# Save the combined DataFrame to a single CSV file\n",
    "output_file = csv_folder / \"stock_price.csv\"\n",
    "df_all.to_csv(output_file, index=False)\n",
    "\n",
    "print(f\"Combined data saved to: {output_file}\")\n"
   ]
  },
  {
   "cell_type": "code",
   "execution_count": null,
   "metadata": {},
   "outputs": [],
   "source": []
  },
  {
   "cell_type": "code",
   "execution_count": null,
   "metadata": {},
   "outputs": [],
   "source": []
  },
  {
   "cell_type": "code",
   "execution_count": null,
   "metadata": {},
   "outputs": [],
   "source": []
  },
  {
   "cell_type": "code",
   "execution_count": null,
   "metadata": {},
   "outputs": [],
   "source": []
  },
  {
   "cell_type": "code",
   "execution_count": null,
   "metadata": {},
   "outputs": [],
   "source": []
  },
  {
   "cell_type": "code",
   "execution_count": null,
   "metadata": {},
   "outputs": [],
   "source": []
  },
  {
   "cell_type": "code",
   "execution_count": null,
   "metadata": {},
   "outputs": [],
   "source": []
  }
 ],
 "metadata": {
  "kernelspec": {
   "display_name": "Python 3",
   "language": "python",
   "name": "python3"
  },
  "language_info": {
   "codemirror_mode": {
    "name": "ipython",
    "version": 3
   },
   "file_extension": ".py",
   "mimetype": "text/x-python",
   "name": "python",
   "nbconvert_exporter": "python",
   "pygments_lexer": "ipython3",
   "version": "3.12.8"
  }
 },
 "nbformat": 4,
 "nbformat_minor": 2
}
